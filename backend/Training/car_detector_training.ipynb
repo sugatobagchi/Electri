{
 "cells": [
  {
   "cell_type": "markdown",
   "metadata": {},
   "source": [
    "### The code is trained in Kaggle to utilize GPU. \n",
    "\n",
    "Dataset used: \n",
    "- [Car and Bike](https://www.kaggle.com/datasets/utkarshsaxenadn/car-vs-bike-classification-dataset)\n",
    "- [Indian Cars](https://www.kaggle.com/datasets/medhekarabhinav5/indian-cars-dataset)\n",
    "\n",
    "Together it was binded and picked for training by mixing up and making a custom dataset."
   ]
  },
  {
   "cell_type": "code",
   "execution_count": null,
   "metadata": {
    "vscode": {
     "languageId": "plaintext"
    }
   },
   "outputs": [],
   "source": [
    "!pip install ultralytics torch\n",
    "from ultralytics import YOLO\n",
    "import torch\n",
    "import yaml"
   ]
  },
  {
   "cell_type": "code",
   "execution_count": null,
   "metadata": {
    "vscode": {
     "languageId": "plaintext"
    }
   },
   "outputs": [],
   "source": [
    "model = YOLO(\"yolo11x-cls.pt\")\n",
    "model_path = \"yolo11x_cls_finetunedv2.pt\""
   ]
  },
  {
   "cell_type": "code",
   "execution_count": null,
   "metadata": {
    "vscode": {
     "languageId": "plaintext"
    }
   },
   "outputs": [],
   "source": [
    "results = model.train(\n",
    "    data='/kaggle/input/car-noncar-dataset/car_bike_dataset',\n",
    "    epochs=100,\n",
    ")"
   ]
  },
  {
   "cell_type": "code",
   "execution_count": null,
   "metadata": {
    "vscode": {
     "languageId": "plaintext"
    }
   },
   "outputs": [],
   "source": [
    "model.save('car_detector.pt')"
   ]
  }
 ],
 "metadata": {
  "language_info": {
   "name": "python"
  }
 },
 "nbformat": 4,
 "nbformat_minor": 2
}
