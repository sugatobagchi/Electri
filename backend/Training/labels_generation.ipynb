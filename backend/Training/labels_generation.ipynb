{
 "cells": [
  {
   "cell_type": "code",
   "execution_count": 28,
   "metadata": {},
   "outputs": [],
   "source": [
    "import xml.etree.ElementTree as xet\n",
    "from glob import glob\n",
    "import os\n",
    "import numpy as np\n",
    "from ultralytics import YOLO\n",
    "import torch\n",
    "from PIL import Image, ImageOps\n",
    "import easyocr\n",
    "import cv2"
   ]
  },
  {
   "cell_type": "code",
   "execution_count": 11,
   "metadata": {},
   "outputs": [],
   "source": [
    "path = glob('./non_ev_vehicle_dataset/annotations/*xml')\n",
    "labels_dir = './data/labels/'\n",
    "class_id = 1\n",
    "os.makedirs(labels_dir, exist_ok=True)"
   ]
  },
  {
   "cell_type": "code",
   "execution_count": 12,
   "metadata": {},
   "outputs": [],
   "source": [
    "for filename in path:\n",
    "    info = xet.parse(filename)\n",
    "    root = info.getroot()\n",
    "    member_object = root.find('object')\n",
    "    labels_info = member_object.find('bndbox')\n",
    "    \n",
    "    xmin = int(labels_info.find('xmin').text)\n",
    "    xmax = int(labels_info.find('xmax').text)\n",
    "    ymin = int(labels_info.find('ymin').text)\n",
    "    ymax = int(labels_info.find('ymax').text)\n",
    "    \n",
    "    img_width = int(root.find('size').find('width').text)\n",
    "    img_height = int(root.find('size').find('height').text)\n",
    "    \n",
    "    center_x = (xmin + xmax) / 2.0 / img_width\n",
    "    center_y = (ymin + ymax) / 2.0 / img_height\n",
    "    bbox_width = (xmax - xmin) / img_width\n",
    "    bbox_height = (ymax - ymin) / img_height\n",
    "    \n",
    "    data = f\"{class_id} {center_x} {center_y} {bbox_width} {bbox_height}\\n\"\n",
    "    \n",
    "    base_filename = os.path.basename(os.path.splitext(filename)[0])\n",
    "    txt_filename = os.path.join(labels_dir, base_filename + '.txt')\n",
    "    with open(txt_filename, 'w') as f:\n",
    "        f.write(data)"
   ]
  }
 ],
 "metadata": {
  "kernelspec": {
   "display_name": "virtualenv",
   "language": "python",
   "name": "python3"
  },
  "language_info": {
   "codemirror_mode": {
    "name": "ipython",
    "version": 3
   },
   "file_extension": ".py",
   "mimetype": "text/x-python",
   "name": "python",
   "nbconvert_exporter": "python",
   "pygments_lexer": "ipython3",
   "version": "3.12.3"
  }
 },
 "nbformat": 4,
 "nbformat_minor": 2
}
