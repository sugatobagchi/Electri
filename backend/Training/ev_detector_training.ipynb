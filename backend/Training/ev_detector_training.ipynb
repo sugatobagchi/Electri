{
 "cells": [
  {
   "cell_type": "markdown",
   "metadata": {},
   "source": [
    "### The code is trained in Kaggle to utilize GPU. \n",
    "\n",
    "Dataset used: \n",
    "- [EV Vehicles of India](https://www.kaggle.com/datasets/dataclusterlabs/electric-vehicle-number-plate-image-dataset)"
   ]
  },
  {
   "cell_type": "code",
   "execution_count": null,
   "metadata": {
    "vscode": {
     "languageId": "plaintext"
    }
   },
   "outputs": [],
   "source": [
    "!pip install ultralytics torch\n",
    "from ultralytics import YOLO\n",
    "import torch\n",
    "import yaml"
   ]
  },
  {
   "cell_type": "code",
   "execution_count": null,
   "metadata": {
    "vscode": {
     "languageId": "plaintext"
    }
   },
   "outputs": [],
   "source": [
    "data_yaml = {\n",
    "    'train': '/kaggle/input/car-noncar-dataset/car_bike_dataset/train',\n",
    "    'val': '/kaggle/input/car-noncar-dataset/car_bike_dataset/val',\n",
    "    'nc': 2,\n",
    "    'names': [0, 1]\n",
    "}"
   ]
  },
  {
   "cell_type": "code",
   "execution_count": null,
   "metadata": {
    "vscode": {
     "languageId": "plaintext"
    }
   },
   "outputs": [],
   "source": [
    "yaml_file_path = './data.yaml'\n",
    "\n",
    "with open(yaml_file_path, 'w') as file:\n",
    "    yaml.dump(data_yaml, file, default_flow_style=False)"
   ]
  },
  {
   "cell_type": "code",
   "execution_count": null,
   "metadata": {
    "vscode": {
     "languageId": "plaintext"
    }
   },
   "outputs": [],
   "source": [
    "results = model.train(\n",
    "    data='/kaggle/working/data.yaml',\n",
    "    epochs=100,\n",
    ")"
   ]
  },
  {
   "cell_type": "code",
   "execution_count": null,
   "metadata": {
    "vscode": {
     "languageId": "plaintext"
    }
   },
   "outputs": [],
   "source": [
    "model.save(ev_detector.pt)"
   ]
  }
 ],
 "metadata": {
  "language_info": {
   "name": "python"
  }
 },
 "nbformat": 4,
 "nbformat_minor": 2
}
